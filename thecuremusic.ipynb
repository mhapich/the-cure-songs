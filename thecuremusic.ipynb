{
 "cells": [
  {
   "cell_type": "code",
   "execution_count": 1,
   "id": "66d258f5",
   "metadata": {
    "_cell_guid": "b1076dfc-b9ad-4769-8c92-a6c4dae69d19",
    "_uuid": "8f2839f25d086af736a60e9eeb907d3b93b6e0e5",
    "execution": {
     "iopub.execute_input": "2021-11-21T20:23:40.988392Z",
     "iopub.status.busy": "2021-11-21T20:23:40.986545Z",
     "iopub.status.idle": "2021-11-21T20:23:41.003236Z",
     "shell.execute_reply": "2021-11-21T20:23:41.003695Z",
     "shell.execute_reply.started": "2021-11-21T20:03:23.899251Z"
    },
    "papermill": {
     "duration": 0.049953,
     "end_time": "2021-11-21T20:23:41.004055",
     "exception": false,
     "start_time": "2021-11-21T20:23:40.954102",
     "status": "completed"
    },
    "tags": []
   },
   "outputs": [
    {
     "name": "stdout",
     "output_type": "stream",
     "text": [
      "/kaggle/input/the-cure-discography/thecure_discography.csv\n"
     ]
    }
   ],
   "source": [
    "# This Python 3 environment comes with many helpful analytics libraries installed\n",
    "# It is defined by the kaggle/python Docker image: https://github.com/kaggle/docker-python\n",
    "# For example, here's several helpful packages to load\n",
    "\n",
    "import numpy as np # linear algebra\n",
    "import pandas as pd # data processing, CSV file I/O (e.g. pd.read_csv)\n",
    "\n",
    "# Input data files are available in the read-only \"../input/\" directory\n",
    "# For example, running this (by clicking run or pressing Shift+Enter) will list all files under the input directory\n",
    "\n",
    "import os\n",
    "for dirname, _, filenames in os.walk('/kaggle/input'):\n",
    "    for filename in filenames:\n",
    "        print(os.path.join(dirname, filename))\n",
    "\n",
    "# You can write up to 20GB to the current directory (/kaggle/working/) that gets preserved as output when you create a version using \"Save & Run All\" \n",
    "# You can also write temporary files to /kaggle/temp/, but they won't be saved outside of the current session"
   ]
  },
  {
   "cell_type": "code",
   "execution_count": 2,
   "id": "f2eab68a",
   "metadata": {
    "execution": {
     "iopub.execute_input": "2021-11-21T20:23:41.058661Z",
     "iopub.status.busy": "2021-11-21T20:23:41.058055Z",
     "iopub.status.idle": "2021-11-21T20:23:41.863635Z",
     "shell.execute_reply": "2021-11-21T20:23:41.864191Z",
     "shell.execute_reply.started": "2021-11-21T20:03:23.912964Z"
    },
    "papermill": {
     "duration": 0.831998,
     "end_time": "2021-11-21T20:23:41.864396",
     "exception": false,
     "start_time": "2021-11-21T20:23:41.032398",
     "status": "completed"
    },
    "tags": []
   },
   "outputs": [
    {
     "name": "stdout",
     "output_type": "stream",
     "text": [
      "__notebook__.ipynb\r\n"
     ]
    }
   ],
   "source": [
    "ls"
   ]
  },
  {
   "cell_type": "code",
   "execution_count": 3,
   "id": "5b21fe9c",
   "metadata": {
    "execution": {
     "iopub.execute_input": "2021-11-21T20:23:41.916953Z",
     "iopub.status.busy": "2021-11-21T20:23:41.916231Z",
     "iopub.status.idle": "2021-11-21T20:23:41.975772Z",
     "shell.execute_reply": "2021-11-21T20:23:41.975269Z",
     "shell.execute_reply.started": "2021-11-21T20:03:24.669439Z"
    },
    "papermill": {
     "duration": 0.088947,
     "end_time": "2021-11-21T20:23:41.975955",
     "exception": false,
     "start_time": "2021-11-21T20:23:41.887008",
     "status": "completed"
    },
    "tags": []
   },
   "outputs": [
    {
     "data": {
      "text/html": [
       "<div>\n",
       "<style scoped>\n",
       "    .dataframe tbody tr th:only-of-type {\n",
       "        vertical-align: middle;\n",
       "    }\n",
       "\n",
       "    .dataframe tbody tr th {\n",
       "        vertical-align: top;\n",
       "    }\n",
       "\n",
       "    .dataframe thead th {\n",
       "        text-align: right;\n",
       "    }\n",
       "</style>\n",
       "<table border=\"1\" class=\"dataframe\">\n",
       "  <thead>\n",
       "    <tr style=\"text-align: right;\">\n",
       "      <th></th>\n",
       "      <th>Unnamed: 0</th>\n",
       "      <th>album_uri</th>\n",
       "      <th>album_name</th>\n",
       "      <th>album_img</th>\n",
       "      <th>album_release_date</th>\n",
       "      <th>album_release_year</th>\n",
       "      <th>album_popularity</th>\n",
       "      <th>track_name</th>\n",
       "      <th>track_uri</th>\n",
       "      <th>danceability</th>\n",
       "      <th>...</th>\n",
       "      <th>speechiness</th>\n",
       "      <th>acousticness</th>\n",
       "      <th>instrumentalness</th>\n",
       "      <th>liveness</th>\n",
       "      <th>valence</th>\n",
       "      <th>tempo</th>\n",
       "      <th>duration_ms</th>\n",
       "      <th>time_signature</th>\n",
       "      <th>key_mode</th>\n",
       "      <th>track_popularity</th>\n",
       "    </tr>\n",
       "  </thead>\n",
       "  <tbody>\n",
       "    <tr>\n",
       "      <th>0</th>\n",
       "      <td>1</td>\n",
       "      <td>33TDfmEXufojT6jxgb3BTK</td>\n",
       "      <td>Pornography</td>\n",
       "      <td>https://i.scdn.co/image/fbec42025b461d54853ba6...</td>\n",
       "      <td>1982-05-03</td>\n",
       "      <td>1982-05-03</td>\n",
       "      <td>34</td>\n",
       "      <td>One Hundred Years - Remastered Version</td>\n",
       "      <td>6o8bpkuFMRS2b25Vui9aDC</td>\n",
       "      <td>0.436</td>\n",
       "      <td>...</td>\n",
       "      <td>0.0439</td>\n",
       "      <td>0.001230</td>\n",
       "      <td>0.509</td>\n",
       "      <td>0.1080</td>\n",
       "      <td>0.262</td>\n",
       "      <td>132.590</td>\n",
       "      <td>401000</td>\n",
       "      <td>4</td>\n",
       "      <td>G major</td>\n",
       "      <td>33</td>\n",
       "    </tr>\n",
       "    <tr>\n",
       "      <th>1</th>\n",
       "      <td>2</td>\n",
       "      <td>33TDfmEXufojT6jxgb3BTK</td>\n",
       "      <td>Pornography</td>\n",
       "      <td>https://i.scdn.co/image/fbec42025b461d54853ba6...</td>\n",
       "      <td>1982-05-03</td>\n",
       "      <td>1982-05-03</td>\n",
       "      <td>34</td>\n",
       "      <td>A Short Term Effect - Remastered Version</td>\n",
       "      <td>4GiVSZ0UcbW0vzVMLnBdDT</td>\n",
       "      <td>0.516</td>\n",
       "      <td>...</td>\n",
       "      <td>0.0319</td>\n",
       "      <td>0.001710</td>\n",
       "      <td>0.165</td>\n",
       "      <td>0.1360</td>\n",
       "      <td>0.649</td>\n",
       "      <td>116.566</td>\n",
       "      <td>262493</td>\n",
       "      <td>4</td>\n",
       "      <td>C major</td>\n",
       "      <td>28</td>\n",
       "    </tr>\n",
       "    <tr>\n",
       "      <th>2</th>\n",
       "      <td>3</td>\n",
       "      <td>33TDfmEXufojT6jxgb3BTK</td>\n",
       "      <td>Pornography</td>\n",
       "      <td>https://i.scdn.co/image/fbec42025b461d54853ba6...</td>\n",
       "      <td>1982-05-03</td>\n",
       "      <td>1982-05-03</td>\n",
       "      <td>34</td>\n",
       "      <td>The Hanging Garden - Remastered Version</td>\n",
       "      <td>6mbZmbZ8wr5DA2CAB3q1GW</td>\n",
       "      <td>0.420</td>\n",
       "      <td>...</td>\n",
       "      <td>0.0393</td>\n",
       "      <td>0.004020</td>\n",
       "      <td>0.488</td>\n",
       "      <td>0.0795</td>\n",
       "      <td>0.634</td>\n",
       "      <td>135.421</td>\n",
       "      <td>274240</td>\n",
       "      <td>4</td>\n",
       "      <td>C major</td>\n",
       "      <td>35</td>\n",
       "    </tr>\n",
       "    <tr>\n",
       "      <th>3</th>\n",
       "      <td>4</td>\n",
       "      <td>33TDfmEXufojT6jxgb3BTK</td>\n",
       "      <td>Pornography</td>\n",
       "      <td>https://i.scdn.co/image/fbec42025b461d54853ba6...</td>\n",
       "      <td>1982-05-03</td>\n",
       "      <td>1982-05-03</td>\n",
       "      <td>34</td>\n",
       "      <td>Siamese Twins - Remastered Version</td>\n",
       "      <td>3x6F5xwseHgXIjptORmGAI</td>\n",
       "      <td>0.772</td>\n",
       "      <td>...</td>\n",
       "      <td>0.0364</td>\n",
       "      <td>0.000298</td>\n",
       "      <td>0.795</td>\n",
       "      <td>0.2820</td>\n",
       "      <td>0.752</td>\n",
       "      <td>94.194</td>\n",
       "      <td>328360</td>\n",
       "      <td>4</td>\n",
       "      <td>D major</td>\n",
       "      <td>34</td>\n",
       "    </tr>\n",
       "    <tr>\n",
       "      <th>4</th>\n",
       "      <td>5</td>\n",
       "      <td>33TDfmEXufojT6jxgb3BTK</td>\n",
       "      <td>Pornography</td>\n",
       "      <td>https://i.scdn.co/image/fbec42025b461d54853ba6...</td>\n",
       "      <td>1982-05-03</td>\n",
       "      <td>1982-05-03</td>\n",
       "      <td>34</td>\n",
       "      <td>The Figurehead - Remastered Version</td>\n",
       "      <td>4MLYH01rrqDifXe06KAkfz</td>\n",
       "      <td>0.655</td>\n",
       "      <td>...</td>\n",
       "      <td>0.0264</td>\n",
       "      <td>0.001250</td>\n",
       "      <td>0.642</td>\n",
       "      <td>0.1100</td>\n",
       "      <td>0.727</td>\n",
       "      <td>110.370</td>\n",
       "      <td>375173</td>\n",
       "      <td>4</td>\n",
       "      <td>A# minor</td>\n",
       "      <td>28</td>\n",
       "    </tr>\n",
       "  </tbody>\n",
       "</table>\n",
       "<p>5 rows × 24 columns</p>\n",
       "</div>"
      ],
      "text/plain": [
       "   Unnamed: 0               album_uri   album_name  \\\n",
       "0           1  33TDfmEXufojT6jxgb3BTK  Pornography   \n",
       "1           2  33TDfmEXufojT6jxgb3BTK  Pornography   \n",
       "2           3  33TDfmEXufojT6jxgb3BTK  Pornography   \n",
       "3           4  33TDfmEXufojT6jxgb3BTK  Pornography   \n",
       "4           5  33TDfmEXufojT6jxgb3BTK  Pornography   \n",
       "\n",
       "                                           album_img album_release_date  \\\n",
       "0  https://i.scdn.co/image/fbec42025b461d54853ba6...         1982-05-03   \n",
       "1  https://i.scdn.co/image/fbec42025b461d54853ba6...         1982-05-03   \n",
       "2  https://i.scdn.co/image/fbec42025b461d54853ba6...         1982-05-03   \n",
       "3  https://i.scdn.co/image/fbec42025b461d54853ba6...         1982-05-03   \n",
       "4  https://i.scdn.co/image/fbec42025b461d54853ba6...         1982-05-03   \n",
       "\n",
       "  album_release_year  album_popularity  \\\n",
       "0         1982-05-03                34   \n",
       "1         1982-05-03                34   \n",
       "2         1982-05-03                34   \n",
       "3         1982-05-03                34   \n",
       "4         1982-05-03                34   \n",
       "\n",
       "                                 track_name               track_uri  \\\n",
       "0    One Hundred Years - Remastered Version  6o8bpkuFMRS2b25Vui9aDC   \n",
       "1  A Short Term Effect - Remastered Version  4GiVSZ0UcbW0vzVMLnBdDT   \n",
       "2   The Hanging Garden - Remastered Version  6mbZmbZ8wr5DA2CAB3q1GW   \n",
       "3        Siamese Twins - Remastered Version  3x6F5xwseHgXIjptORmGAI   \n",
       "4       The Figurehead - Remastered Version  4MLYH01rrqDifXe06KAkfz   \n",
       "\n",
       "   danceability  ...  speechiness acousticness  instrumentalness liveness  \\\n",
       "0         0.436  ...       0.0439     0.001230             0.509   0.1080   \n",
       "1         0.516  ...       0.0319     0.001710             0.165   0.1360   \n",
       "2         0.420  ...       0.0393     0.004020             0.488   0.0795   \n",
       "3         0.772  ...       0.0364     0.000298             0.795   0.2820   \n",
       "4         0.655  ...       0.0264     0.001250             0.642   0.1100   \n",
       "\n",
       "   valence    tempo  duration_ms  time_signature  key_mode  track_popularity  \n",
       "0    0.262  132.590       401000               4   G major                33  \n",
       "1    0.649  116.566       262493               4   C major                28  \n",
       "2    0.634  135.421       274240               4   C major                35  \n",
       "3    0.752   94.194       328360               4   D major                34  \n",
       "4    0.727  110.370       375173               4  A# minor                28  \n",
       "\n",
       "[5 rows x 24 columns]"
      ]
     },
     "execution_count": 3,
     "metadata": {},
     "output_type": "execute_result"
    }
   ],
   "source": [
    "df = pd.read_csv(\"/kaggle/input/the-cure-discography/thecure_discography.csv\")\n",
    "df.head()"
   ]
  },
  {
   "cell_type": "code",
   "execution_count": 4,
   "id": "fcd1d79f",
   "metadata": {
    "execution": {
     "iopub.execute_input": "2021-11-21T20:23:42.027422Z",
     "iopub.status.busy": "2021-11-21T20:23:42.026493Z",
     "iopub.status.idle": "2021-11-21T20:23:42.031564Z",
     "shell.execute_reply": "2021-11-21T20:23:42.031995Z",
     "shell.execute_reply.started": "2021-11-21T20:03:24.706778Z"
    },
    "papermill": {
     "duration": 0.03245,
     "end_time": "2021-11-21T20:23:42.032168",
     "exception": false,
     "start_time": "2021-11-21T20:23:41.999718",
     "status": "completed"
    },
    "tags": []
   },
   "outputs": [
    {
     "data": {
      "text/plain": [
       "(223, 24)"
      ]
     },
     "execution_count": 4,
     "metadata": {},
     "output_type": "execute_result"
    }
   ],
   "source": [
    "df.shape"
   ]
  },
  {
   "cell_type": "code",
   "execution_count": 5,
   "id": "8c7bd3f6",
   "metadata": {
    "execution": {
     "iopub.execute_input": "2021-11-21T20:23:42.083101Z",
     "iopub.status.busy": "2021-11-21T20:23:42.082103Z",
     "iopub.status.idle": "2021-11-21T20:23:42.106900Z",
     "shell.execute_reply": "2021-11-21T20:23:42.107636Z",
     "shell.execute_reply.started": "2021-11-21T20:03:24.717892Z"
    },
    "papermill": {
     "duration": 0.051918,
     "end_time": "2021-11-21T20:23:42.107898",
     "exception": false,
     "start_time": "2021-11-21T20:23:42.055980",
     "status": "completed"
    },
    "tags": []
   },
   "outputs": [
    {
     "name": "stdout",
     "output_type": "stream",
     "text": [
      "<class 'pandas.core.frame.DataFrame'>\n",
      "RangeIndex: 223 entries, 0 to 222\n",
      "Data columns (total 24 columns):\n",
      " #   Column              Non-Null Count  Dtype  \n",
      "---  ------              --------------  -----  \n",
      " 0   Unnamed: 0          223 non-null    int64  \n",
      " 1   album_uri           223 non-null    object \n",
      " 2   album_name          223 non-null    object \n",
      " 3   album_img           223 non-null    object \n",
      " 4   album_release_date  223 non-null    object \n",
      " 5   album_release_year  223 non-null    object \n",
      " 6   album_popularity    223 non-null    int64  \n",
      " 7   track_name          223 non-null    object \n",
      " 8   track_uri           223 non-null    object \n",
      " 9   danceability        223 non-null    float64\n",
      " 10  energy              223 non-null    float64\n",
      " 11  key                 223 non-null    object \n",
      " 12  loudness            223 non-null    float64\n",
      " 13  mode                223 non-null    object \n",
      " 14  speechiness         223 non-null    float64\n",
      " 15  acousticness        223 non-null    float64\n",
      " 16  instrumentalness    223 non-null    float64\n",
      " 17  liveness            223 non-null    float64\n",
      " 18  valence             223 non-null    float64\n",
      " 19  tempo               223 non-null    float64\n",
      " 20  duration_ms         223 non-null    int64  \n",
      " 21  time_signature      223 non-null    int64  \n",
      " 22  key_mode            223 non-null    object \n",
      " 23  track_popularity    223 non-null    int64  \n",
      "dtypes: float64(9), int64(5), object(10)\n",
      "memory usage: 41.9+ KB\n"
     ]
    }
   ],
   "source": [
    "df.info()"
   ]
  },
  {
   "cell_type": "code",
   "execution_count": 6,
   "id": "81cd8395",
   "metadata": {
    "execution": {
     "iopub.execute_input": "2021-11-21T20:23:42.168220Z",
     "iopub.status.busy": "2021-11-21T20:23:42.167432Z",
     "iopub.status.idle": "2021-11-21T20:23:42.170412Z",
     "shell.execute_reply": "2021-11-21T20:23:42.169897Z",
     "shell.execute_reply.started": "2021-11-21T20:03:24.736856Z"
    },
    "papermill": {
     "duration": 0.038698,
     "end_time": "2021-11-21T20:23:42.170563",
     "exception": false,
     "start_time": "2021-11-21T20:23:42.131865",
     "status": "completed"
    },
    "tags": []
   },
   "outputs": [],
   "source": [
    "df.album_release_date = pd.to_datetime(df.album_release_date, format='%Y-%m-%d')\n",
    "df.album_release_year = pd.to_datetime(df.album_release_year, format='%Y-%m-%d')"
   ]
  },
  {
   "cell_type": "code",
   "execution_count": 7,
   "id": "7bca1c29",
   "metadata": {
    "execution": {
     "iopub.execute_input": "2021-11-21T20:23:42.236538Z",
     "iopub.status.busy": "2021-11-21T20:23:42.228096Z",
     "iopub.status.idle": "2021-11-21T20:23:42.238967Z",
     "shell.execute_reply": "2021-11-21T20:23:42.239534Z",
     "shell.execute_reply.started": "2021-11-21T20:03:24.749365Z"
    },
    "papermill": {
     "duration": 0.04294,
     "end_time": "2021-11-21T20:23:42.239706",
     "exception": false,
     "start_time": "2021-11-21T20:23:42.196766",
     "status": "completed"
    },
    "tags": []
   },
   "outputs": [
    {
     "name": "stdout",
     "output_type": "stream",
     "text": [
      "<class 'pandas.core.frame.DataFrame'>\n",
      "RangeIndex: 223 entries, 0 to 222\n",
      "Data columns (total 24 columns):\n",
      " #   Column              Non-Null Count  Dtype         \n",
      "---  ------              --------------  -----         \n",
      " 0   Unnamed: 0          223 non-null    int64         \n",
      " 1   album_uri           223 non-null    object        \n",
      " 2   album_name          223 non-null    object        \n",
      " 3   album_img           223 non-null    object        \n",
      " 4   album_release_date  223 non-null    datetime64[ns]\n",
      " 5   album_release_year  223 non-null    datetime64[ns]\n",
      " 6   album_popularity    223 non-null    int64         \n",
      " 7   track_name          223 non-null    object        \n",
      " 8   track_uri           223 non-null    object        \n",
      " 9   danceability        223 non-null    float64       \n",
      " 10  energy              223 non-null    float64       \n",
      " 11  key                 223 non-null    object        \n",
      " 12  loudness            223 non-null    float64       \n",
      " 13  mode                223 non-null    object        \n",
      " 14  speechiness         223 non-null    float64       \n",
      " 15  acousticness        223 non-null    float64       \n",
      " 16  instrumentalness    223 non-null    float64       \n",
      " 17  liveness            223 non-null    float64       \n",
      " 18  valence             223 non-null    float64       \n",
      " 19  tempo               223 non-null    float64       \n",
      " 20  duration_ms         223 non-null    int64         \n",
      " 21  time_signature      223 non-null    int64         \n",
      " 22  key_mode            223 non-null    object        \n",
      " 23  track_popularity    223 non-null    int64         \n",
      "dtypes: datetime64[ns](2), float64(9), int64(5), object(8)\n",
      "memory usage: 41.9+ KB\n"
     ]
    }
   ],
   "source": [
    "df.info()"
   ]
  },
  {
   "cell_type": "code",
   "execution_count": 8,
   "id": "e7b94272",
   "metadata": {
    "execution": {
     "iopub.execute_input": "2021-11-21T20:23:42.296155Z",
     "iopub.status.busy": "2021-11-21T20:23:42.295401Z",
     "iopub.status.idle": "2021-11-21T20:23:42.302585Z",
     "shell.execute_reply": "2021-11-21T20:23:42.301917Z",
     "shell.execute_reply.started": "2021-11-21T20:03:24.767094Z"
    },
    "papermill": {
     "duration": 0.035944,
     "end_time": "2021-11-21T20:23:42.302752",
     "exception": false,
     "start_time": "2021-11-21T20:23:42.266808",
     "status": "completed"
    },
    "tags": []
   },
   "outputs": [],
   "source": [
    "df['album_release_year']=df['album_release_year'].dt.year"
   ]
  },
  {
   "cell_type": "code",
   "execution_count": 9,
   "id": "b9c27322",
   "metadata": {
    "execution": {
     "iopub.execute_input": "2021-11-21T20:23:42.359530Z",
     "iopub.status.busy": "2021-11-21T20:23:42.358589Z",
     "iopub.status.idle": "2021-11-21T20:23:42.362709Z",
     "shell.execute_reply": "2021-11-21T20:23:42.362251Z",
     "shell.execute_reply.started": "2021-11-21T20:03:24.779534Z"
    },
    "papermill": {
     "duration": 0.03356,
     "end_time": "2021-11-21T20:23:42.362885",
     "exception": false,
     "start_time": "2021-11-21T20:23:42.329325",
     "status": "completed"
    },
    "tags": []
   },
   "outputs": [
    {
     "data": {
      "text/plain": [
       "Index(['Unnamed: 0', 'album_uri', 'album_name', 'album_img',\n",
       "       'album_release_date', 'album_release_year', 'album_popularity',\n",
       "       'track_name', 'track_uri', 'danceability', 'energy', 'key', 'loudness',\n",
       "       'mode', 'speechiness', 'acousticness', 'instrumentalness', 'liveness',\n",
       "       'valence', 'tempo', 'duration_ms', 'time_signature', 'key_mode',\n",
       "       'track_popularity'],\n",
       "      dtype='object')"
      ]
     },
     "execution_count": 9,
     "metadata": {},
     "output_type": "execute_result"
    }
   ],
   "source": [
    "import matplotlib.pyplot as plt\n",
    "df.columns"
   ]
  },
  {
   "cell_type": "code",
   "execution_count": 10,
   "id": "c32791a7",
   "metadata": {
    "execution": {
     "iopub.execute_input": "2021-11-21T20:23:42.421300Z",
     "iopub.status.busy": "2021-11-21T20:23:42.420607Z",
     "iopub.status.idle": "2021-11-21T20:23:42.433715Z",
     "shell.execute_reply": "2021-11-21T20:23:42.434303Z",
     "shell.execute_reply.started": "2021-11-21T20:03:24.793773Z"
    },
    "papermill": {
     "duration": 0.046483,
     "end_time": "2021-11-21T20:23:42.434522",
     "exception": false,
     "start_time": "2021-11-21T20:23:42.388039",
     "status": "completed"
    },
    "tags": []
   },
   "outputs": [
    {
     "data": {
      "text/plain": [
       "The Top                         20\n",
       "Kiss Me Kiss Me Kiss Me         20\n",
       "Disintegration (D.E. Rmstrd)    20\n",
       "Mixed Up (D.E. Rmstrd 2018)     20\n",
       "Bestival Live 2011              20\n",
       "Show                            18\n",
       "Wild Mood Swings                14\n",
       "4:13 Dream                      13\n",
       "Wish                            12\n",
       "Paris                           12\n",
       "The Cure                        11\n",
       "Concert - The Cure Live         10\n",
       "The Head On The Door            10\n",
       "Bloodflowers                     9\n",
       "Pornography                      8\n",
       "Hypnagogic States                6\n",
       "Name: album_name, dtype: int64"
      ]
     },
     "execution_count": 10,
     "metadata": {},
     "output_type": "execute_result"
    }
   ],
   "source": [
    "albums_by_year = df.sort_values(by=['album_release_year', 'album_name'])[['album_name', 'track_name', 'album_release_year']]\n",
    "albums_by_year['album_name']=albums_by_year['album_name'].apply(lambda x: x.replace('Disintegration (Deluxe Edition [Remastered])', 'Disintegration (D.E. Rmstrd)'))\n",
    "albums_by_year['album_name']=albums_by_year['album_name'].apply(lambda x: x.replace('Mixed Up (Remastered 2018 / Deluxe Edition)', 'Mixed Up (D.E. Rmstrd 2018)'))\n",
    "albums_by_year['album_name'].value_counts()"
   ]
  },
  {
   "cell_type": "code",
   "execution_count": 11,
   "id": "502be87f",
   "metadata": {
    "execution": {
     "iopub.execute_input": "2021-11-21T20:23:42.491474Z",
     "iopub.status.busy": "2021-11-21T20:23:42.490817Z",
     "iopub.status.idle": "2021-11-21T20:23:42.847704Z",
     "shell.execute_reply": "2021-11-21T20:23:42.846654Z",
     "shell.execute_reply.started": "2021-11-21T20:03:24.815603Z"
    },
    "papermill": {
     "duration": 0.38746,
     "end_time": "2021-11-21T20:23:42.847885",
     "exception": false,
     "start_time": "2021-11-21T20:23:42.460425",
     "status": "completed"
    },
    "tags": []
   },
   "outputs": [
    {
     "data": {
      "image/png": "[encoded data removed]",
      "text/plain": [
       "<Figure size 432x288 with 1 Axes>"
      ]
     },
     "metadata": {
      "needs_background": "light"
     },
     "output_type": "display_data"
    }
   ],
   "source": [
    "albums_by_year.album_name.value_counts().plot(kind='bar');"
   ]
  },
  {
   "cell_type": "code",
   "execution_count": 12,
   "id": "d59802b2",
   "metadata": {
    "execution": {
     "iopub.execute_input": "2021-11-21T20:23:42.905529Z",
     "iopub.status.busy": "2021-11-21T20:23:42.904894Z",
     "iopub.status.idle": "2021-11-21T20:23:43.944522Z",
     "shell.execute_reply": "2021-11-21T20:23:43.945060Z",
     "shell.execute_reply.started": "2021-11-21T20:03:25.128729Z"
    },
    "papermill": {
     "duration": 1.071858,
     "end_time": "2021-11-21T20:23:43.945240",
     "exception": false,
     "start_time": "2021-11-21T20:23:42.873382",
     "status": "completed"
    },
    "tags": []
   },
   "outputs": [],
   "source": [
    "import seaborn as sns"
   ]
  },
  {
   "cell_type": "code",
   "execution_count": 13,
   "id": "15853afe",
   "metadata": {
    "execution": {
     "iopub.execute_input": "2021-11-21T20:23:44.002203Z",
     "iopub.status.busy": "2021-11-21T20:23:44.001500Z",
     "iopub.status.idle": "2021-11-21T20:23:46.327739Z",
     "shell.execute_reply": "2021-11-21T20:23:46.328274Z",
     "shell.execute_reply.started": "2021-11-21T20:03:25.134200Z"
    },
    "papermill": {
     "duration": 2.356876,
     "end_time": "2021-11-21T20:23:46.328449",
     "exception": false,
     "start_time": "2021-11-21T20:23:43.971573",
     "status": "completed"
    },
    "tags": []
   },
   "outputs": [
    {
     "data": {
      "image/png": "[encoded data removed]",
      "text/plain": [
       "<Figure size 1080x1440 with 1 Axes>"
      ]
     },
     "metadata": {
      "needs_background": "light"
     },
     "output_type": "display_data"
    }
   ],
   "source": [
    "plt.figure(figsize=(15,20))\n",
    "plt.rc('ytick', labelsize=20) \n",
    "b = sns.countplot(y='album_name', data=albums_by_year, hue = 'album_release_year', dodge=False)\n",
    "b.set_xlabel('Count of songs on album', fontsize=15)\n",
    "b.set_ylabel('Album name', fontsize=12)\n",
    "b.set_xticks(range(0,30,4))\n",
    "b.legend(fontsize=20, loc='lower right')\n",
    "# label each bar with count of songs per album\n",
    "for p in b.patches:\n",
    "    count = p.get_width().astype(int)\n",
    "    b.text(p.get_x() + p.get_width() + 0.1, p.get_y() + p.get_height()/2, count, fontsize=12);"
   ]
  },
  {
   "cell_type": "code",
   "execution_count": 14,
   "id": "fb50d495",
   "metadata": {
    "execution": {
     "iopub.execute_input": "2021-11-21T20:23:46.393071Z",
     "iopub.status.busy": "2021-11-21T20:23:46.392086Z",
     "iopub.status.idle": "2021-11-21T20:23:46.414089Z",
     "shell.execute_reply": "2021-11-21T20:23:46.414574Z",
     "shell.execute_reply.started": "2021-11-21T20:03:27.744212Z"
    },
    "papermill": {
     "duration": 0.057937,
     "end_time": "2021-11-21T20:23:46.414751",
     "exception": false,
     "start_time": "2021-11-21T20:23:46.356814",
     "status": "completed"
    },
    "tags": []
   },
   "outputs": [
    {
     "data": {
      "text/html": [
       "<div>\n",
       "<style scoped>\n",
       "    .dataframe tbody tr th:only-of-type {\n",
       "        vertical-align: middle;\n",
       "    }\n",
       "\n",
       "    .dataframe tbody tr th {\n",
       "        vertical-align: top;\n",
       "    }\n",
       "\n",
       "    .dataframe thead th {\n",
       "        text-align: right;\n",
       "    }\n",
       "</style>\n",
       "<table border=\"1\" class=\"dataframe\">\n",
       "  <thead>\n",
       "    <tr style=\"text-align: right;\">\n",
       "      <th></th>\n",
       "      <th>Unnamed: 0</th>\n",
       "      <th>album_uri</th>\n",
       "      <th>album_name</th>\n",
       "      <th>album_img</th>\n",
       "      <th>album_release_date</th>\n",
       "      <th>album_release_year</th>\n",
       "      <th>album_popularity</th>\n",
       "      <th>track_name</th>\n",
       "      <th>track_uri</th>\n",
       "      <th>danceability</th>\n",
       "      <th>...</th>\n",
       "      <th>speechiness</th>\n",
       "      <th>acousticness</th>\n",
       "      <th>instrumentalness</th>\n",
       "      <th>liveness</th>\n",
       "      <th>valence</th>\n",
       "      <th>tempo</th>\n",
       "      <th>duration_ms</th>\n",
       "      <th>time_signature</th>\n",
       "      <th>key_mode</th>\n",
       "      <th>track_popularity</th>\n",
       "    </tr>\n",
       "  </thead>\n",
       "  <tbody>\n",
       "    <tr>\n",
       "      <th>0</th>\n",
       "      <td>1</td>\n",
       "      <td>33TDfmEXufojT6jxgb3BTK</td>\n",
       "      <td>Pornography</td>\n",
       "      <td>https://i.scdn.co/image/fbec42025b461d54853ba6...</td>\n",
       "      <td>1982-05-03</td>\n",
       "      <td>1982</td>\n",
       "      <td>34</td>\n",
       "      <td>One Hundred Years - Remastered Version</td>\n",
       "      <td>6o8bpkuFMRS2b25Vui9aDC</td>\n",
       "      <td>0.436</td>\n",
       "      <td>...</td>\n",
       "      <td>0.0439</td>\n",
       "      <td>0.001230</td>\n",
       "      <td>0.509</td>\n",
       "      <td>0.1080</td>\n",
       "      <td>0.262</td>\n",
       "      <td>132.590</td>\n",
       "      <td>401000</td>\n",
       "      <td>4</td>\n",
       "      <td>G major</td>\n",
       "      <td>33</td>\n",
       "    </tr>\n",
       "    <tr>\n",
       "      <th>1</th>\n",
       "      <td>2</td>\n",
       "      <td>33TDfmEXufojT6jxgb3BTK</td>\n",
       "      <td>Pornography</td>\n",
       "      <td>https://i.scdn.co/image/fbec42025b461d54853ba6...</td>\n",
       "      <td>1982-05-03</td>\n",
       "      <td>1982</td>\n",
       "      <td>34</td>\n",
       "      <td>A Short Term Effect - Remastered Version</td>\n",
       "      <td>4GiVSZ0UcbW0vzVMLnBdDT</td>\n",
       "      <td>0.516</td>\n",
       "      <td>...</td>\n",
       "      <td>0.0319</td>\n",
       "      <td>0.001710</td>\n",
       "      <td>0.165</td>\n",
       "      <td>0.1360</td>\n",
       "      <td>0.649</td>\n",
       "      <td>116.566</td>\n",
       "      <td>262493</td>\n",
       "      <td>4</td>\n",
       "      <td>C major</td>\n",
       "      <td>28</td>\n",
       "    </tr>\n",
       "    <tr>\n",
       "      <th>2</th>\n",
       "      <td>3</td>\n",
       "      <td>33TDfmEXufojT6jxgb3BTK</td>\n",
       "      <td>Pornography</td>\n",
       "      <td>https://i.scdn.co/image/fbec42025b461d54853ba6...</td>\n",
       "      <td>1982-05-03</td>\n",
       "      <td>1982</td>\n",
       "      <td>34</td>\n",
       "      <td>The Hanging Garden - Remastered Version</td>\n",
       "      <td>6mbZmbZ8wr5DA2CAB3q1GW</td>\n",
       "      <td>0.420</td>\n",
       "      <td>...</td>\n",
       "      <td>0.0393</td>\n",
       "      <td>0.004020</td>\n",
       "      <td>0.488</td>\n",
       "      <td>0.0795</td>\n",
       "      <td>0.634</td>\n",
       "      <td>135.421</td>\n",
       "      <td>274240</td>\n",
       "      <td>4</td>\n",
       "      <td>C major</td>\n",
       "      <td>35</td>\n",
       "    </tr>\n",
       "    <tr>\n",
       "      <th>3</th>\n",
       "      <td>4</td>\n",
       "      <td>33TDfmEXufojT6jxgb3BTK</td>\n",
       "      <td>Pornography</td>\n",
       "      <td>https://i.scdn.co/image/fbec42025b461d54853ba6...</td>\n",
       "      <td>1982-05-03</td>\n",
       "      <td>1982</td>\n",
       "      <td>34</td>\n",
       "      <td>Siamese Twins - Remastered Version</td>\n",
       "      <td>3x6F5xwseHgXIjptORmGAI</td>\n",
       "      <td>0.772</td>\n",
       "      <td>...</td>\n",
       "      <td>0.0364</td>\n",
       "      <td>0.000298</td>\n",
       "      <td>0.795</td>\n",
       "      <td>0.2820</td>\n",
       "      <td>0.752</td>\n",
       "      <td>94.194</td>\n",
       "      <td>328360</td>\n",
       "      <td>4</td>\n",
       "      <td>D major</td>\n",
       "      <td>34</td>\n",
       "    </tr>\n",
       "    <tr>\n",
       "      <th>4</th>\n",
       "      <td>5</td>\n",
       "      <td>33TDfmEXufojT6jxgb3BTK</td>\n",
       "      <td>Pornography</td>\n",
       "      <td>https://i.scdn.co/image/fbec42025b461d54853ba6...</td>\n",
       "      <td>1982-05-03</td>\n",
       "      <td>1982</td>\n",
       "      <td>34</td>\n",
       "      <td>The Figurehead - Remastered Version</td>\n",
       "      <td>4MLYH01rrqDifXe06KAkfz</td>\n",
       "      <td>0.655</td>\n",
       "      <td>...</td>\n",
       "      <td>0.0264</td>\n",
       "      <td>0.001250</td>\n",
       "      <td>0.642</td>\n",
       "      <td>0.1100</td>\n",
       "      <td>0.727</td>\n",
       "      <td>110.370</td>\n",
       "      <td>375173</td>\n",
       "      <td>4</td>\n",
       "      <td>A# minor</td>\n",
       "      <td>28</td>\n",
       "    </tr>\n",
       "  </tbody>\n",
       "</table>\n",
       "<p>5 rows × 24 columns</p>\n",
       "</div>"
      ],
      "text/plain": [
       "   Unnamed: 0               album_uri   album_name  \\\n",
       "0           1  33TDfmEXufojT6jxgb3BTK  Pornography   \n",
       "1           2  33TDfmEXufojT6jxgb3BTK  Pornography   \n",
       "2           3  33TDfmEXufojT6jxgb3BTK  Pornography   \n",
       "3           4  33TDfmEXufojT6jxgb3BTK  Pornography   \n",
       "4           5  33TDfmEXufojT6jxgb3BTK  Pornography   \n",
       "\n",
       "                                           album_img album_release_date  \\\n",
       "0  https://i.scdn.co/image/fbec42025b461d54853ba6...         1982-05-03   \n",
       "1  https://i.scdn.co/image/fbec42025b461d54853ba6...         1982-05-03   \n",
       "2  https://i.scdn.co/image/fbec42025b461d54853ba6...         1982-05-03   \n",
       "3  https://i.scdn.co/image/fbec42025b461d54853ba6...         1982-05-03   \n",
       "4  https://i.scdn.co/image/fbec42025b461d54853ba6...         1982-05-03   \n",
       "\n",
       "   album_release_year  album_popularity  \\\n",
       "0                1982                34   \n",
       "1                1982                34   \n",
       "2                1982                34   \n",
       "3                1982                34   \n",
       "4                1982                34   \n",
       "\n",
       "                                 track_name               track_uri  \\\n",
       "0    One Hundred Years - Remastered Version  6o8bpkuFMRS2b25Vui9aDC   \n",
       "1  A Short Term Effect - Remastered Version  4GiVSZ0UcbW0vzVMLnBdDT   \n",
       "2   The Hanging Garden - Remastered Version  6mbZmbZ8wr5DA2CAB3q1GW   \n",
       "3        Siamese Twins - Remastered Version  3x6F5xwseHgXIjptORmGAI   \n",
       "4       The Figurehead - Remastered Version  4MLYH01rrqDifXe06KAkfz   \n",
       "\n",
       "   danceability  ...  speechiness acousticness  instrumentalness liveness  \\\n",
       "0         0.436  ...       0.0439     0.001230             0.509   0.1080   \n",
       "1         0.516  ...       0.0319     0.001710             0.165   0.1360   \n",
       "2         0.420  ...       0.0393     0.004020             0.488   0.0795   \n",
       "3         0.772  ...       0.0364     0.000298             0.795   0.2820   \n",
       "4         0.655  ...       0.0264     0.001250             0.642   0.1100   \n",
       "\n",
       "   valence    tempo  duration_ms  time_signature  key_mode  track_popularity  \n",
       "0    0.262  132.590       401000               4   G major                33  \n",
       "1    0.649  116.566       262493               4   C major                28  \n",
       "2    0.634  135.421       274240               4   C major                35  \n",
       "3    0.752   94.194       328360               4   D major                34  \n",
       "4    0.727  110.370       375173               4  A# minor                28  \n",
       "\n",
       "[5 rows x 24 columns]"
      ]
     },
     "execution_count": 14,
     "metadata": {},
     "output_type": "execute_result"
    }
   ],
   "source": [
    "df.head()"
   ]
  },
  {
   "cell_type": "code",
   "execution_count": 15,
   "id": "ed04e73e",
   "metadata": {
    "execution": {
     "iopub.execute_input": "2021-11-21T20:23:46.478252Z",
     "iopub.status.busy": "2021-11-21T20:23:46.477218Z",
     "iopub.status.idle": "2021-11-21T20:23:46.483138Z",
     "shell.execute_reply": "2021-11-21T20:23:46.483863Z",
     "shell.execute_reply.started": "2021-11-21T20:03:27.775303Z"
    },
    "papermill": {
     "duration": 0.039988,
     "end_time": "2021-11-21T20:23:46.484067",
     "exception": false,
     "start_time": "2021-11-21T20:23:46.444079",
     "status": "completed"
    },
    "tags": []
   },
   "outputs": [],
   "source": [
    "df.drop('Unnamed: 0', axis=1, inplace=True)"
   ]
  },
  {
   "cell_type": "code",
   "execution_count": 16,
   "id": "b37b220c",
   "metadata": {
    "execution": {
     "iopub.execute_input": "2021-11-21T20:23:46.546701Z",
     "iopub.status.busy": "2021-11-21T20:23:46.545720Z",
     "iopub.status.idle": "2021-11-21T20:23:46.551771Z",
     "shell.execute_reply": "2021-11-21T20:23:46.552396Z",
     "shell.execute_reply.started": "2021-11-21T20:03:27.786398Z"
    },
    "papermill": {
     "duration": 0.038917,
     "end_time": "2021-11-21T20:23:46.552583",
     "exception": false,
     "start_time": "2021-11-21T20:23:46.513666",
     "status": "completed"
    },
    "tags": []
   },
   "outputs": [
    {
     "data": {
      "text/plain": [
       "Index(['album_uri', 'album_name', 'album_img', 'album_release_date',\n",
       "       'album_release_year', 'album_popularity', 'track_name', 'track_uri',\n",
       "       'danceability', 'energy', 'key', 'loudness', 'mode', 'speechiness',\n",
       "       'acousticness', 'instrumentalness', 'liveness', 'valence', 'tempo',\n",
       "       'duration_ms', 'time_signature', 'key_mode', 'track_popularity'],\n",
       "      dtype='object')"
      ]
     },
     "execution_count": 16,
     "metadata": {},
     "output_type": "execute_result"
    }
   ],
   "source": [
    "df.columns"
   ]
  },
  {
   "cell_type": "code",
   "execution_count": 17,
   "id": "106f73c9",
   "metadata": {
    "execution": {
     "iopub.execute_input": "2021-11-21T20:23:46.615790Z",
     "iopub.status.busy": "2021-11-21T20:23:46.614861Z",
     "iopub.status.idle": "2021-11-21T20:23:46.649224Z",
     "shell.execute_reply": "2021-11-21T20:23:46.648608Z",
     "shell.execute_reply.started": "2021-11-21T20:03:27.799291Z"
    },
    "papermill": {
     "duration": 0.067315,
     "end_time": "2021-11-21T20:23:46.649368",
     "exception": false,
     "start_time": "2021-11-21T20:23:46.582053",
     "status": "completed"
    },
    "tags": []
   },
   "outputs": [
    {
     "data": {
      "text/html": [
       "<div>\n",
       "<style scoped>\n",
       "    .dataframe tbody tr th:only-of-type {\n",
       "        vertical-align: middle;\n",
       "    }\n",
       "\n",
       "    .dataframe tbody tr th {\n",
       "        vertical-align: top;\n",
       "    }\n",
       "\n",
       "    .dataframe thead th {\n",
       "        text-align: right;\n",
       "    }\n",
       "</style>\n",
       "<table border=\"1\" class=\"dataframe\">\n",
       "  <thead>\n",
       "    <tr style=\"text-align: right;\">\n",
       "      <th></th>\n",
       "      <th>danceability</th>\n",
       "      <th>energy</th>\n",
       "      <th>loudness</th>\n",
       "      <th>speechiness</th>\n",
       "      <th>acousticness</th>\n",
       "      <th>instrumentalness</th>\n",
       "      <th>liveness</th>\n",
       "      <th>valence</th>\n",
       "      <th>tempo</th>\n",
       "    </tr>\n",
       "  </thead>\n",
       "  <tbody>\n",
       "    <tr>\n",
       "      <th>count</th>\n",
       "      <td>223.000000</td>\n",
       "      <td>223.000000</td>\n",
       "      <td>223.000000</td>\n",
       "      <td>223.000000</td>\n",
       "      <td>223.000000</td>\n",
       "      <td>223.000000</td>\n",
       "      <td>223.000000</td>\n",
       "      <td>223.000000</td>\n",
       "      <td>223.000000</td>\n",
       "    </tr>\n",
       "    <tr>\n",
       "      <th>mean</th>\n",
       "      <td>0.520341</td>\n",
       "      <td>0.768982</td>\n",
       "      <td>-8.486027</td>\n",
       "      <td>0.049394</td>\n",
       "      <td>0.149261</td>\n",
       "      <td>0.233470</td>\n",
       "      <td>0.403882</td>\n",
       "      <td>0.503273</td>\n",
       "      <td>129.404668</td>\n",
       "    </tr>\n",
       "    <tr>\n",
       "      <th>std</th>\n",
       "      <td>0.135878</td>\n",
       "      <td>0.157281</td>\n",
       "      <td>3.847060</td>\n",
       "      <td>0.031209</td>\n",
       "      <td>0.182739</td>\n",
       "      <td>0.295339</td>\n",
       "      <td>0.326814</td>\n",
       "      <td>0.210575</td>\n",
       "      <td>29.393823</td>\n",
       "    </tr>\n",
       "    <tr>\n",
       "      <th>min</th>\n",
       "      <td>0.175000</td>\n",
       "      <td>0.284000</td>\n",
       "      <td>-24.265000</td>\n",
       "      <td>0.023300</td>\n",
       "      <td>0.000030</td>\n",
       "      <td>0.000000</td>\n",
       "      <td>0.038900</td>\n",
       "      <td>0.042200</td>\n",
       "      <td>74.919000</td>\n",
       "    </tr>\n",
       "    <tr>\n",
       "      <th>25%</th>\n",
       "      <td>0.431000</td>\n",
       "      <td>0.674500</td>\n",
       "      <td>-11.356000</td>\n",
       "      <td>0.032450</td>\n",
       "      <td>0.012700</td>\n",
       "      <td>0.001285</td>\n",
       "      <td>0.117500</td>\n",
       "      <td>0.343500</td>\n",
       "      <td>108.812000</td>\n",
       "    </tr>\n",
       "    <tr>\n",
       "      <th>50%</th>\n",
       "      <td>0.528000</td>\n",
       "      <td>0.805000</td>\n",
       "      <td>-7.727000</td>\n",
       "      <td>0.040500</td>\n",
       "      <td>0.067400</td>\n",
       "      <td>0.060600</td>\n",
       "      <td>0.300000</td>\n",
       "      <td>0.506000</td>\n",
       "      <td>128.105000</td>\n",
       "    </tr>\n",
       "    <tr>\n",
       "      <th>75%</th>\n",
       "      <td>0.608000</td>\n",
       "      <td>0.900000</td>\n",
       "      <td>-5.750500</td>\n",
       "      <td>0.051400</td>\n",
       "      <td>0.218000</td>\n",
       "      <td>0.457000</td>\n",
       "      <td>0.694500</td>\n",
       "      <td>0.658000</td>\n",
       "      <td>150.101500</td>\n",
       "    </tr>\n",
       "    <tr>\n",
       "      <th>max</th>\n",
       "      <td>0.848000</td>\n",
       "      <td>0.998000</td>\n",
       "      <td>-1.378000</td>\n",
       "      <td>0.267000</td>\n",
       "      <td>0.759000</td>\n",
       "      <td>0.933000</td>\n",
       "      <td>1.000000</td>\n",
       "      <td>0.960000</td>\n",
       "      <td>204.468000</td>\n",
       "    </tr>\n",
       "  </tbody>\n",
       "</table>\n",
       "</div>"
      ],
      "text/plain": [
       "       danceability      energy    loudness  speechiness  acousticness  \\\n",
       "count    223.000000  223.000000  223.000000   223.000000    223.000000   \n",
       "mean       0.520341    0.768982   -8.486027     0.049394      0.149261   \n",
       "std        0.135878    0.157281    3.847060     0.031209      0.182739   \n",
       "min        0.175000    0.284000  -24.265000     0.023300      0.000030   \n",
       "25%        0.431000    0.674500  -11.356000     0.032450      0.012700   \n",
       "50%        0.528000    0.805000   -7.727000     0.040500      0.067400   \n",
       "75%        0.608000    0.900000   -5.750500     0.051400      0.218000   \n",
       "max        0.848000    0.998000   -1.378000     0.267000      0.759000   \n",
       "\n",
       "       instrumentalness    liveness     valence       tempo  \n",
       "count        223.000000  223.000000  223.000000  223.000000  \n",
       "mean           0.233470    0.403882    0.503273  129.404668  \n",
       "std            0.295339    0.326814    0.210575   29.393823  \n",
       "min            0.000000    0.038900    0.042200   74.919000  \n",
       "25%            0.001285    0.117500    0.343500  108.812000  \n",
       "50%            0.060600    0.300000    0.506000  128.105000  \n",
       "75%            0.457000    0.694500    0.658000  150.101500  \n",
       "max            0.933000    1.000000    0.960000  204.468000  "
      ]
     },
     "execution_count": 17,
     "metadata": {},
     "output_type": "execute_result"
    }
   ],
   "source": [
    "song_moods = df[['album_name', 'track_name', 'danceability', 'energy', 'key', 'loudness', 'mode', 'speechiness', 'acousticness', 'instrumentalness', 'liveness', 'valence', 'tempo', 'key_mode']]\n",
    "song_moods.describe()"
   ]
  },
  {
   "cell_type": "markdown",
   "id": "c7cdd70e",
   "metadata": {
    "papermill": {
     "duration": 0.029728,
     "end_time": "2021-11-21T20:23:46.709375",
     "exception": false,
     "start_time": "2021-11-21T20:23:46.679647",
     "status": "completed"
    },
    "tags": []
   },
   "source": [
    "Note: none of this data is missing"
   ]
  },
  {
   "cell_type": "code",
   "execution_count": 18,
   "id": "d9844e35",
   "metadata": {
    "execution": {
     "iopub.execute_input": "2021-11-21T20:23:46.773241Z",
     "iopub.status.busy": "2021-11-21T20:23:46.772301Z",
     "iopub.status.idle": "2021-11-21T20:23:46.785082Z",
     "shell.execute_reply": "2021-11-21T20:23:46.785577Z",
     "shell.execute_reply.started": "2021-11-21T20:03:27.840604Z"
    },
    "papermill": {
     "duration": 0.04667,
     "end_time": "2021-11-21T20:23:46.785758",
     "exception": false,
     "start_time": "2021-11-21T20:23:46.739088",
     "status": "completed"
    },
    "tags": []
   },
   "outputs": [
    {
     "name": "stdout",
     "output_type": "stream",
     "text": [
      "<class 'pandas.core.frame.DataFrame'>\n",
      "RangeIndex: 223 entries, 0 to 222\n",
      "Data columns (total 14 columns):\n",
      " #   Column            Non-Null Count  Dtype  \n",
      "---  ------            --------------  -----  \n",
      " 0   album_name        223 non-null    object \n",
      " 1   track_name        223 non-null    object \n",
      " 2   danceability      223 non-null    float64\n",
      " 3   energy            223 non-null    float64\n",
      " 4   key               223 non-null    object \n",
      " 5   loudness          223 non-null    float64\n",
      " 6   mode              223 non-null    object \n",
      " 7   speechiness       223 non-null    float64\n",
      " 8   acousticness      223 non-null    float64\n",
      " 9   instrumentalness  223 non-null    float64\n",
      " 10  liveness          223 non-null    float64\n",
      " 11  valence           223 non-null    float64\n",
      " 12  tempo             223 non-null    float64\n",
      " 13  key_mode          223 non-null    object \n",
      "dtypes: float64(9), object(5)\n",
      "memory usage: 24.5+ KB\n"
     ]
    }
   ],
   "source": [
    "song_moods.info()"
   ]
  },
  {
   "cell_type": "code",
   "execution_count": 19,
   "id": "e889523d",
   "metadata": {
    "execution": {
     "iopub.execute_input": "2021-11-21T20:23:46.850052Z",
     "iopub.status.busy": "2021-11-21T20:23:46.848909Z",
     "iopub.status.idle": "2021-11-21T20:23:46.862063Z",
     "shell.execute_reply": "2021-11-21T20:23:46.862580Z",
     "shell.execute_reply.started": "2021-11-21T20:03:27.855207Z"
    },
    "papermill": {
     "duration": 0.047488,
     "end_time": "2021-11-21T20:23:46.862748",
     "exception": false,
     "start_time": "2021-11-21T20:23:46.815260",
     "status": "completed"
    },
    "tags": []
   },
   "outputs": [
    {
     "data": {
      "text/html": [
       "<div>\n",
       "<style scoped>\n",
       "    .dataframe tbody tr th:only-of-type {\n",
       "        vertical-align: middle;\n",
       "    }\n",
       "\n",
       "    .dataframe tbody tr th {\n",
       "        vertical-align: top;\n",
       "    }\n",
       "\n",
       "    .dataframe thead th {\n",
       "        text-align: right;\n",
       "    }\n",
       "</style>\n",
       "<table border=\"1\" class=\"dataframe\">\n",
       "  <thead>\n",
       "    <tr style=\"text-align: right;\">\n",
       "      <th></th>\n",
       "      <th>album_name</th>\n",
       "      <th>track_name</th>\n",
       "      <th>key</th>\n",
       "      <th>mode</th>\n",
       "      <th>key_mode</th>\n",
       "    </tr>\n",
       "  </thead>\n",
       "  <tbody>\n",
       "    <tr>\n",
       "      <th>0</th>\n",
       "      <td>Pornography</td>\n",
       "      <td>One Hundred Years - Remastered Version</td>\n",
       "      <td>G</td>\n",
       "      <td>major</td>\n",
       "      <td>G major</td>\n",
       "    </tr>\n",
       "    <tr>\n",
       "      <th>1</th>\n",
       "      <td>Pornography</td>\n",
       "      <td>A Short Term Effect - Remastered Version</td>\n",
       "      <td>C</td>\n",
       "      <td>major</td>\n",
       "      <td>C major</td>\n",
       "    </tr>\n",
       "    <tr>\n",
       "      <th>2</th>\n",
       "      <td>Pornography</td>\n",
       "      <td>The Hanging Garden - Remastered Version</td>\n",
       "      <td>C</td>\n",
       "      <td>major</td>\n",
       "      <td>C major</td>\n",
       "    </tr>\n",
       "    <tr>\n",
       "      <th>3</th>\n",
       "      <td>Pornography</td>\n",
       "      <td>Siamese Twins - Remastered Version</td>\n",
       "      <td>D</td>\n",
       "      <td>major</td>\n",
       "      <td>D major</td>\n",
       "    </tr>\n",
       "    <tr>\n",
       "      <th>4</th>\n",
       "      <td>Pornography</td>\n",
       "      <td>The Figurehead - Remastered Version</td>\n",
       "      <td>A#</td>\n",
       "      <td>minor</td>\n",
       "      <td>A# minor</td>\n",
       "    </tr>\n",
       "  </tbody>\n",
       "</table>\n",
       "</div>"
      ],
      "text/plain": [
       "    album_name                                track_name key   mode  key_mode\n",
       "0  Pornography    One Hundred Years - Remastered Version   G  major   G major\n",
       "1  Pornography  A Short Term Effect - Remastered Version   C  major   C major\n",
       "2  Pornography   The Hanging Garden - Remastered Version   C  major   C major\n",
       "3  Pornography        Siamese Twins - Remastered Version   D  major   D major\n",
       "4  Pornography       The Figurehead - Remastered Version  A#  minor  A# minor"
      ]
     },
     "execution_count": 19,
     "metadata": {},
     "output_type": "execute_result"
    }
   ],
   "source": [
    "sm_non_numeric_cols = [col for col in song_moods.columns if song_moods[col].dtype=='object']\n",
    "song_moods_cat = song_moods[sm_non_numeric_cols]\n",
    "song_moods_cat.head()"
   ]
  },
  {
   "cell_type": "code",
   "execution_count": 20,
   "id": "c863b84d",
   "metadata": {
    "execution": {
     "iopub.execute_input": "2021-11-21T20:23:46.932904Z",
     "iopub.status.busy": "2021-11-21T20:23:46.931952Z",
     "iopub.status.idle": "2021-11-21T20:23:46.935603Z",
     "shell.execute_reply": "2021-11-21T20:23:46.936160Z",
     "shell.execute_reply.started": "2021-11-21T20:03:27.875775Z"
    },
    "papermill": {
     "duration": 0.043346,
     "end_time": "2021-11-21T20:23:46.936332",
     "exception": false,
     "start_time": "2021-11-21T20:23:46.892986",
     "status": "completed"
    },
    "tags": []
   },
   "outputs": [
    {
     "data": {
      "text/plain": [
       "A     55\n",
       "D     35\n",
       "C     29\n",
       "G     23\n",
       "B     19\n",
       "E     18\n",
       "F#    16\n",
       "F     12\n",
       "C#     7\n",
       "A#     6\n",
       "G#     2\n",
       "D#     1\n",
       "Name: key, dtype: int64"
      ]
     },
     "execution_count": 20,
     "metadata": {},
     "output_type": "execute_result"
    }
   ],
   "source": [
    "song_moods_cat.key.value_counts()"
   ]
  },
  {
   "cell_type": "code",
   "execution_count": 21,
   "id": "323afa3c",
   "metadata": {
    "execution": {
     "iopub.execute_input": "2021-11-21T20:23:47.001328Z",
     "iopub.status.busy": "2021-11-21T20:23:47.000337Z",
     "iopub.status.idle": "2021-11-21T20:23:47.261247Z",
     "shell.execute_reply": "2021-11-21T20:23:47.260631Z",
     "shell.execute_reply.started": "2021-11-21T20:03:27.885238Z"
    },
    "papermill": {
     "duration": 0.294397,
     "end_time": "2021-11-21T20:23:47.261394",
     "exception": false,
     "start_time": "2021-11-21T20:23:46.966997",
     "status": "completed"
    },
    "tags": []
   },
   "outputs": [
    {
     "data": {
      "text/plain": [
       "<AxesSubplot:>"
      ]
     },
     "execution_count": 21,
     "metadata": {},
     "output_type": "execute_result"
    },
    {
     "data": {
      "image/png": "[encoded data removed]",
      "text/plain": [
       "<Figure size 432x288 with 2 Axes>"
      ]
     },
     "metadata": {
      "needs_background": "light"
     },
     "output_type": "display_data"
    }
   ],
   "source": [
    "# these sound like they might be highly correlated\n",
    "song_moods_fun = song_moods[['danceability', 'energy', 'liveness']]\n",
    "song_moods_fun.head()\n",
    "sns.heatmap(song_moods_fun.corr(), annot=True)"
   ]
  },
  {
   "cell_type": "markdown",
   "id": "6e7b2204",
   "metadata": {
    "papermill": {
     "duration": 0.031178,
     "end_time": "2021-11-21T20:23:47.324267",
     "exception": false,
     "start_time": "2021-11-21T20:23:47.293089",
     "status": "completed"
    },
    "tags": []
   },
   "source": [
    "Hmmm.  Time to google these terms, because I would definitely *not* expect a higher energy song to be less danceable.  "
   ]
  },
  {
   "cell_type": "markdown",
   "id": "779a708c",
   "metadata": {
    "papermill": {
     "duration": 0.034001,
     "end_time": "2021-11-21T20:23:47.391623",
     "exception": false,
     "start_time": "2021-11-21T20:23:47.357622",
     "status": "completed"
    },
    "tags": []
   },
   "source": [
    "From [maelfabien](https://maelfabien.github.io/Hack-3/#)<br>\n",
    "**duration_ms:** The duration of the track in milliseconds.<br>\n",
    "**key:** The estimated overall key of the track. Integers map to pitches using standard Pitch Class notation. E.g. 0 = C, 1 = C♯/D♭, 2 = D, and so on. If no key was detected, the value is -1.<br>\n",
    "**mode:** Mode indicates the modality (major or minor) of a track, the type of scale from which its melodic content is derived. Major is represented by 1 and minor is 0.<br>\n",
    "**time_signature:** An estimated overall time signature of a track. The time signature (meter) is a notational convention to specify how many beats are in each bar (or measure).<br>\n",
    "**acousticness:** A confidence measure from 0.0 to 1.0 of whether the track is acoustic. 1.0 represents high confidence the track is acoustic. <br>\n",
    "**danceability:** Danceability describes how suitable a track is for dancing based on a combination of musical elements including tempo, rhythm stability, beat strength, and overall regularity. A value of 0.0 is least danceable and 1.0 is most danceable. <br>\n",
    "**energy:** Energy is a measure from 0.0 to 1.0 and represents a perceptual measure of intensity and activity. Typically, energetic tracks feel fast, loud, and noisy. For example, death metal has high energy, while a Bach prelude scores low on the scale. Perceptual features contributing to this attribute include dynamic range, perceived loudness, timbre, onset rate, and general entropy. <br>\n",
    "**instrumentalness:** Predicts whether a track contains no vocals. “Ooh” and “aah” sounds are treated as instrumental in this context. Rap or spoken word tracks are clearly “vocal”. The closer the instrumentalness value is to 1.0, the greater the likelihood the track contains no vocal content. Values above 0.5 are intended to represent instrumental tracks, but confidence is higher as the value approaches 1.0. <br>\n",
    "**liveness:** Detects the presence of an audience in the recording. Higher liveness values represent an increased probability that the track was performed live. A value above 0.8 provides a strong likelihood that the track is live. <br>\n",
    "**loudness:** The overall loudness of a track in decibels (dB). Loudness values are averaged across the entire track and are useful for comparing relative loudness of tracks. Loudness is the quality of a sound that is the primary psychological correlate of physical strength (amplitude). Values typical range between -60 and 0 dB. <br>\n",
    "**speechiness:** Speechiness detects the presence of spoken words in a track. The more exclusively speech-like the recording (e.g. talk show, audiobook, poetry), the closer to 1.0 the attribute value. Values above 0.66 describe tracks that are probably made entirely of spoken words. Values between 0.33 and 0.66 describe tracks that may contain both music and speech, either in sections or layered, including such cases as rap music. Values below 0.33 most likely represent music and other non-speech-like tracks. <br>\n",
    "**valence:** A measure from 0.0 to 1.0 describing the musical positiveness conveyed by a track. Tracks with high valence sound more positive (e.g. happy, cheerful, euphoric), while tracks with low valence sound more negative (e.g. sad, depressed, angry). <br>\n",
    "tempo: The overall estimated tempo of the section in beats per minute (BPM). In musical terminology, the tempo is the speed or pace of a given piece and derives directly from the average beat duration.<br>\n",
    "**key:** The estimated overall key of the section. The values in this field ranging from 0 to 11 mapping to pitches using standard Pitch Class notation (E.g. 0 = C, 1 = C♯/D♭, 2 = D, and so on). If no key was detected, the value is -1.<br>\n",
    "**mode:** integer Indicates the modality (major or minor) of a track, the type of scale from which its melodic content is derived. This field will contain a 0 for “minor”, a 1 for “major”, or a -1 for no result. Note that the major key (e.g. C major) could more likely be confused with the minor key at 3 semitones lower (e.g. A minor) as both keys carry the same pitches.<br>\n",
    "**mode_confidence:** The confidence, from 0.0 to 1.0, of the reliability of the mode.<br>\n",
    "**time_signature:** An estimated overall time signature of a track. The time signature (meter) is a notational convention to specify how many beats are in each bar (or measure). The time signature ranges from 3 to 7 indicating time signatures of “3/4”, to “7/4”."
   ]
  },
  {
   "cell_type": "markdown",
   "id": "e0f2c0b8",
   "metadata": {
    "papermill": {
     "duration": 0.031149,
     "end_time": "2021-11-21T20:23:47.454737",
     "exception": false,
     "start_time": "2021-11-21T20:23:47.423588",
     "status": "completed"
    },
    "tags": []
   },
   "source": [
    "So yes - I should take out liveness as this just means was the song probably performed live.  Also, I will definitely include valence.  In fact, I would think that more Cure songs are sad, depressed, or angry than happy.  I will check this now."
   ]
  },
  {
   "cell_type": "code",
   "execution_count": 22,
   "id": "691783d5",
   "metadata": {
    "execution": {
     "iopub.execute_input": "2021-11-21T20:23:47.524093Z",
     "iopub.status.busy": "2021-11-21T20:23:47.523308Z",
     "iopub.status.idle": "2021-11-21T20:23:47.529083Z",
     "shell.execute_reply": "2021-11-21T20:23:47.529514Z",
     "shell.execute_reply.started": "2021-11-21T20:03:28.155439Z"
    },
    "papermill": {
     "duration": 0.043645,
     "end_time": "2021-11-21T20:23:47.529699",
     "exception": false,
     "start_time": "2021-11-21T20:23:47.486054",
     "status": "completed"
    },
    "tags": []
   },
   "outputs": [
    {
     "data": {
      "text/plain": [
       "(117, 14)"
      ]
     },
     "execution_count": 22,
     "metadata": {},
     "output_type": "execute_result"
    }
   ],
   "source": [
    "happier = song_moods[song_moods.valence >= 0.5]\n",
    "happier.shape"
   ]
  },
  {
   "cell_type": "code",
   "execution_count": 23,
   "id": "83e31984",
   "metadata": {
    "execution": {
     "iopub.execute_input": "2021-11-21T20:23:47.601040Z",
     "iopub.status.busy": "2021-11-21T20:23:47.599994Z",
     "iopub.status.idle": "2021-11-21T20:23:47.605532Z",
     "shell.execute_reply": "2021-11-21T20:23:47.606110Z",
     "shell.execute_reply.started": "2021-11-21T20:03:28.164084Z"
    },
    "papermill": {
     "duration": 0.042686,
     "end_time": "2021-11-21T20:23:47.606291",
     "exception": false,
     "start_time": "2021-11-21T20:23:47.563605",
     "status": "completed"
    },
    "tags": []
   },
   "outputs": [],
   "source": [
    "happy_keys = happier.key.value_counts()/len(happier)"
   ]
  },
  {
   "cell_type": "code",
   "execution_count": 24,
   "id": "88cd3fcf",
   "metadata": {
    "execution": {
     "iopub.execute_input": "2021-11-21T20:23:47.682374Z",
     "iopub.status.busy": "2021-11-21T20:23:47.681400Z",
     "iopub.status.idle": "2021-11-21T20:23:47.688730Z",
     "shell.execute_reply": "2021-11-21T20:23:47.688244Z",
     "shell.execute_reply.started": "2021-11-21T20:03:28.178215Z"
    },
    "papermill": {
     "duration": 0.045618,
     "end_time": "2021-11-21T20:23:47.688905",
     "exception": false,
     "start_time": "2021-11-21T20:23:47.643287",
     "status": "completed"
    },
    "tags": []
   },
   "outputs": [],
   "source": [
    "sadder = song_moods.drop(happier.index)\n",
    "sadder.shape\n",
    "sad_keys = sadder.key.value_counts()/len(sadder)"
   ]
  },
  {
   "cell_type": "code",
   "execution_count": 25,
   "id": "c776f409",
   "metadata": {
    "execution": {
     "iopub.execute_input": "2021-11-21T20:23:47.761732Z",
     "iopub.status.busy": "2021-11-21T20:23:47.761052Z",
     "iopub.status.idle": "2021-11-21T20:23:47.772926Z",
     "shell.execute_reply": "2021-11-21T20:23:47.773450Z",
     "shell.execute_reply.started": "2021-11-21T20:03:28.191056Z"
    },
    "papermill": {
     "duration": 0.050991,
     "end_time": "2021-11-21T20:23:47.773651",
     "exception": false,
     "start_time": "2021-11-21T20:23:47.722660",
     "status": "completed"
    },
    "tags": []
   },
   "outputs": [
    {
     "data": {
      "text/html": [
       "<div>\n",
       "<style scoped>\n",
       "    .dataframe tbody tr th:only-of-type {\n",
       "        vertical-align: middle;\n",
       "    }\n",
       "\n",
       "    .dataframe tbody tr th {\n",
       "        vertical-align: top;\n",
       "    }\n",
       "\n",
       "    .dataframe thead th {\n",
       "        text-align: right;\n",
       "    }\n",
       "</style>\n",
       "<table border=\"1\" class=\"dataframe\">\n",
       "  <thead>\n",
       "    <tr style=\"text-align: right;\">\n",
       "      <th></th>\n",
       "      <th>sad_percent</th>\n",
       "    </tr>\n",
       "  </thead>\n",
       "  <tbody>\n",
       "    <tr>\n",
       "      <th>A</th>\n",
       "      <td>0.179245</td>\n",
       "    </tr>\n",
       "    <tr>\n",
       "      <th>G</th>\n",
       "      <td>0.150943</td>\n",
       "    </tr>\n",
       "    <tr>\n",
       "      <th>D</th>\n",
       "      <td>0.150943</td>\n",
       "    </tr>\n",
       "    <tr>\n",
       "      <th>C</th>\n",
       "      <td>0.122642</td>\n",
       "    </tr>\n",
       "    <tr>\n",
       "      <th>F</th>\n",
       "      <td>0.113208</td>\n",
       "    </tr>\n",
       "  </tbody>\n",
       "</table>\n",
       "</div>"
      ],
      "text/plain": [
       "   sad_percent\n",
       "A     0.179245\n",
       "G     0.150943\n",
       "D     0.150943\n",
       "C     0.122642\n",
       "F     0.113208"
      ]
     },
     "execution_count": 25,
     "metadata": {},
     "output_type": "execute_result"
    }
   ],
   "source": [
    "happy_keys = pd.DataFrame(happy_keys)\n",
    "sad_keys = pd.DataFrame(sad_keys)\n",
    "happy_keys.rename(columns = {\"key\": \"happy_percent\"}, \n",
    "          inplace = True)\n",
    "sad_keys.rename(columns = {\"key\": \"sad_percent\"}, \n",
    "          inplace = True)\n",
    "sad_keys.head()"
   ]
  },
  {
   "cell_type": "code",
   "execution_count": 26,
   "id": "04095f55",
   "metadata": {
    "execution": {
     "iopub.execute_input": "2021-11-21T20:23:47.909317Z",
     "iopub.status.busy": "2021-11-21T20:23:47.908581Z",
     "iopub.status.idle": "2021-11-21T20:23:47.911242Z",
     "shell.execute_reply": "2021-11-21T20:23:47.911656Z",
     "shell.execute_reply.started": "2021-11-21T20:03:28.209528Z"
    },
    "papermill": {
     "duration": 0.041833,
     "end_time": "2021-11-21T20:23:47.911855",
     "exception": false,
     "start_time": "2021-11-21T20:23:47.870022",
     "status": "completed"
    },
    "tags": []
   },
   "outputs": [],
   "source": [
    "# do an outer join to try to find which keys are more commonly happy or sad\n",
    "key_mood = pd.concat([happy_keys, sad_keys], axis=1)"
   ]
  },
  {
   "cell_type": "code",
   "execution_count": 27,
   "id": "1915aaf3",
   "metadata": {
    "execution": {
     "iopub.execute_input": "2021-11-21T20:23:47.988882Z",
     "iopub.status.busy": "2021-11-21T20:23:47.988183Z",
     "iopub.status.idle": "2021-11-21T20:23:47.991042Z",
     "shell.execute_reply": "2021-11-21T20:23:47.991495Z",
     "shell.execute_reply.started": "2021-11-21T20:03:28.217129Z"
    },
    "papermill": {
     "duration": 0.046406,
     "end_time": "2021-11-21T20:23:47.991683",
     "exception": false,
     "start_time": "2021-11-21T20:23:47.945277",
     "status": "completed"
    },
    "tags": []
   },
   "outputs": [
    {
     "data": {
      "text/html": [
       "<div>\n",
       "<style scoped>\n",
       "    .dataframe tbody tr th:only-of-type {\n",
       "        vertical-align: middle;\n",
       "    }\n",
       "\n",
       "    .dataframe tbody tr th {\n",
       "        vertical-align: top;\n",
       "    }\n",
       "\n",
       "    .dataframe thead th {\n",
       "        text-align: right;\n",
       "    }\n",
       "</style>\n",
       "<table border=\"1\" class=\"dataframe\">\n",
       "  <thead>\n",
       "    <tr style=\"text-align: right;\">\n",
       "      <th></th>\n",
       "      <th>happy_percent</th>\n",
       "      <th>sad_percent</th>\n",
       "    </tr>\n",
       "  </thead>\n",
       "  <tbody>\n",
       "    <tr>\n",
       "      <th>A</th>\n",
       "      <td>0.307692</td>\n",
       "      <td>0.179245</td>\n",
       "    </tr>\n",
       "    <tr>\n",
       "      <th>D</th>\n",
       "      <td>0.162393</td>\n",
       "      <td>0.150943</td>\n",
       "    </tr>\n",
       "    <tr>\n",
       "      <th>C</th>\n",
       "      <td>0.136752</td>\n",
       "      <td>0.122642</td>\n",
       "    </tr>\n",
       "    <tr>\n",
       "      <th>B</th>\n",
       "      <td>0.119658</td>\n",
       "      <td>0.047170</td>\n",
       "    </tr>\n",
       "    <tr>\n",
       "      <th>E</th>\n",
       "      <td>0.076923</td>\n",
       "      <td>0.084906</td>\n",
       "    </tr>\n",
       "    <tr>\n",
       "      <th>F#</th>\n",
       "      <td>0.076923</td>\n",
       "      <td>0.066038</td>\n",
       "    </tr>\n",
       "    <tr>\n",
       "      <th>G</th>\n",
       "      <td>0.059829</td>\n",
       "      <td>0.150943</td>\n",
       "    </tr>\n",
       "    <tr>\n",
       "      <th>C#</th>\n",
       "      <td>0.025641</td>\n",
       "      <td>0.037736</td>\n",
       "    </tr>\n",
       "    <tr>\n",
       "      <th>A#</th>\n",
       "      <td>0.017094</td>\n",
       "      <td>0.037736</td>\n",
       "    </tr>\n",
       "    <tr>\n",
       "      <th>G#</th>\n",
       "      <td>0.017094</td>\n",
       "      <td>NaN</td>\n",
       "    </tr>\n",
       "    <tr>\n",
       "      <th>F</th>\n",
       "      <td>NaN</td>\n",
       "      <td>0.113208</td>\n",
       "    </tr>\n",
       "    <tr>\n",
       "      <th>D#</th>\n",
       "      <td>NaN</td>\n",
       "      <td>0.009434</td>\n",
       "    </tr>\n",
       "  </tbody>\n",
       "</table>\n",
       "</div>"
      ],
      "text/plain": [
       "    happy_percent  sad_percent\n",
       "A        0.307692     0.179245\n",
       "D        0.162393     0.150943\n",
       "C        0.136752     0.122642\n",
       "B        0.119658     0.047170\n",
       "E        0.076923     0.084906\n",
       "F#       0.076923     0.066038\n",
       "G        0.059829     0.150943\n",
       "C#       0.025641     0.037736\n",
       "A#       0.017094     0.037736\n",
       "G#       0.017094          NaN\n",
       "F             NaN     0.113208\n",
       "D#            NaN     0.009434"
      ]
     },
     "execution_count": 27,
     "metadata": {},
     "output_type": "execute_result"
    }
   ],
   "source": [
    "key_mood"
   ]
  },
  {
   "cell_type": "markdown",
   "id": "792e00f2",
   "metadata": {
    "papermill": {
     "duration": 0.033443,
     "end_time": "2021-11-21T20:23:48.057720",
     "exception": false,
     "start_time": "2021-11-21T20:23:48.024277",
     "status": "completed"
    },
    "tags": []
   },
   "source": [
    "It's interesting to change the threshold on what is happy (>=.5, >=.7, etc.) and watch the percents change in the keys above."
   ]
  },
  {
   "cell_type": "code",
   "execution_count": 28,
   "id": "47b3cad6",
   "metadata": {
    "execution": {
     "iopub.execute_input": "2021-11-21T20:23:48.138349Z",
     "iopub.status.busy": "2021-11-21T20:23:48.137658Z",
     "iopub.status.idle": "2021-11-21T20:23:48.148773Z",
     "shell.execute_reply": "2021-11-21T20:23:48.149268Z",
     "shell.execute_reply.started": "2021-11-21T20:11:09.280985Z"
    },
    "papermill": {
     "duration": 0.055783,
     "end_time": "2021-11-21T20:23:48.149510",
     "exception": false,
     "start_time": "2021-11-21T20:23:48.093727",
     "status": "completed"
    },
    "tags": []
   },
   "outputs": [
    {
     "data": {
      "text/html": [
       "<div>\n",
       "<style scoped>\n",
       "    .dataframe tbody tr th:only-of-type {\n",
       "        vertical-align: middle;\n",
       "    }\n",
       "\n",
       "    .dataframe tbody tr th {\n",
       "        vertical-align: top;\n",
       "    }\n",
       "\n",
       "    .dataframe thead th {\n",
       "        text-align: right;\n",
       "    }\n",
       "</style>\n",
       "<table border=\"1\" class=\"dataframe\">\n",
       "  <thead>\n",
       "    <tr style=\"text-align: right;\">\n",
       "      <th></th>\n",
       "      <th>track_name</th>\n",
       "      <th>valence</th>\n",
       "      <th>tempo</th>\n",
       "    </tr>\n",
       "  </thead>\n",
       "  <tbody>\n",
       "    <tr>\n",
       "      <th>71</th>\n",
       "      <td>Lovesong</td>\n",
       "      <td>0.821</td>\n",
       "      <td>140.112</td>\n",
       "    </tr>\n",
       "    <tr>\n",
       "      <th>92</th>\n",
       "      <td>Lovesong - Extended Mix</td>\n",
       "      <td>0.789</td>\n",
       "      <td>140.022</td>\n",
       "    </tr>\n",
       "    <tr>\n",
       "      <th>208</th>\n",
       "      <td>Lovesong - Bestival Live 2011</td>\n",
       "      <td>0.728</td>\n",
       "      <td>140.016</td>\n",
       "    </tr>\n",
       "    <tr>\n",
       "      <th>126</th>\n",
       "      <td>Love Song</td>\n",
       "      <td>0.638</td>\n",
       "      <td>139.243</td>\n",
       "    </tr>\n",
       "    <tr>\n",
       "      <th>114</th>\n",
       "      <td>Friday I'm In Love</td>\n",
       "      <td>0.505</td>\n",
       "      <td>136.203</td>\n",
       "    </tr>\n",
       "    <tr>\n",
       "      <th>213</th>\n",
       "      <td>Friday I'm In Love - Bestival Live 2011</td>\n",
       "      <td>0.433</td>\n",
       "      <td>144.979</td>\n",
       "    </tr>\n",
       "    <tr>\n",
       "      <th>144</th>\n",
       "      <td>Friday I'm In Love - Live At The Palace, Aubur...</td>\n",
       "      <td>0.333</td>\n",
       "      <td>143.554</td>\n",
       "    </tr>\n",
       "  </tbody>\n",
       "</table>\n",
       "</div>"
      ],
      "text/plain": [
       "                                            track_name  valence    tempo\n",
       "71                                            Lovesong    0.821  140.112\n",
       "92                             Lovesong - Extended Mix    0.789  140.022\n",
       "208                      Lovesong - Bestival Live 2011    0.728  140.016\n",
       "126                                          Love Song    0.638  139.243\n",
       "114                                 Friday I'm In Love    0.505  136.203\n",
       "213            Friday I'm In Love - Bestival Live 2011    0.433  144.979\n",
       "144  Friday I'm In Love - Live At The Palace, Aubur...    0.333  143.554"
      ]
     },
     "execution_count": 28,
     "metadata": {},
     "output_type": "execute_result"
    }
   ],
   "source": [
    "love = df[df['track_name'].str.lower().str.contains('love')]\n",
    "love.sort_values(['valence', 'tempo'], ascending=False)[['track_name', 'valence', 'tempo']]"
   ]
  },
  {
   "cell_type": "markdown",
   "id": "b139b6d2",
   "metadata": {
    "papermill": {
     "duration": 0.037214,
     "end_time": "2021-11-21T20:23:48.226919",
     "exception": false,
     "start_time": "2021-11-21T20:23:48.189705",
     "status": "completed"
    },
    "tags": []
   },
   "source": [
    "Lol I'm about ready to stop on this dataset.  *HOW* is *Lovesong* happier than *Friday I'm In Love*??!?"
   ]
  },
  {
   "cell_type": "code",
   "execution_count": 29,
   "id": "19cc17be",
   "metadata": {
    "execution": {
     "iopub.execute_input": "2021-11-21T20:23:48.306256Z",
     "iopub.status.busy": "2021-11-21T20:23:48.305554Z",
     "iopub.status.idle": "2021-11-21T20:23:49.015474Z",
     "shell.execute_reply": "2021-11-21T20:23:49.016087Z",
     "shell.execute_reply.started": "2021-11-21T20:17:57.570780Z"
    },
    "papermill": {
     "duration": 0.754499,
     "end_time": "2021-11-21T20:23:49.016304",
     "exception": false,
     "start_time": "2021-11-21T20:23:48.261805",
     "status": "completed"
    },
    "tags": []
   },
   "outputs": [
    {
     "data": {
      "image/png": "[encoded data removed]",
      "text/plain": [
       "<Figure size 432x288 with 1 Axes>"
      ]
     },
     "metadata": {
      "needs_background": "light"
     },
     "output_type": "display_data"
    }
   ],
   "source": [
    "sns.scatterplot(x='tempo', y='valence', data=df, hue='key');"
   ]
  },
  {
   "cell_type": "markdown",
   "id": "c5e3e951",
   "metadata": {
    "papermill": {
     "duration": 0.040658,
     "end_time": "2021-11-21T20:23:49.094649",
     "exception": false,
     "start_time": "2021-11-21T20:23:49.053991",
     "status": "completed"
    },
    "tags": []
   },
   "source": [
    "Well.  I seem to have no intuition for music, eh?"
   ]
  },
  {
   "cell_type": "code",
   "execution_count": 30,
   "id": "16278206",
   "metadata": {
    "execution": {
     "iopub.execute_input": "2021-11-21T20:23:49.193155Z",
     "iopub.status.busy": "2021-11-21T20:23:49.192480Z",
     "iopub.status.idle": "2021-11-21T20:23:49.551546Z",
     "shell.execute_reply": "2021-11-21T20:23:49.550583Z",
     "shell.execute_reply.started": "2021-11-21T20:20:09.827157Z"
    },
    "papermill": {
     "duration": 0.415103,
     "end_time": "2021-11-21T20:23:49.551741",
     "exception": false,
     "start_time": "2021-11-21T20:23:49.136638",
     "status": "completed"
    },
    "tags": []
   },
   "outputs": [
    {
     "data": {
      "image/png": "[encoded data removed]",
      "text/plain": [
       "<Figure size 432x288 with 1 Axes>"
      ]
     },
     "metadata": {
      "needs_background": "light"
     },
     "output_type": "display_data"
    }
   ],
   "source": [
    "sns.scatterplot(x='tempo', y='valence', data=df, hue='mode');"
   ]
  },
  {
   "cell_type": "code",
   "execution_count": 31,
   "id": "7d70ee94",
   "metadata": {
    "execution": {
     "iopub.execute_input": "2021-11-21T20:23:49.654097Z",
     "iopub.status.busy": "2021-11-21T20:23:49.653036Z",
     "iopub.status.idle": "2021-11-21T20:23:49.812683Z",
     "shell.execute_reply": "2021-11-21T20:23:49.812141Z",
     "shell.execute_reply.started": "2021-11-21T20:22:13.781055Z"
    },
    "papermill": {
     "duration": 0.215448,
     "end_time": "2021-11-21T20:23:49.812863",
     "exception": false,
     "start_time": "2021-11-21T20:23:49.597415",
     "status": "completed"
    },
    "tags": []
   },
   "outputs": [
    {
     "data": {
      "text/plain": [
       "<AxesSubplot:xlabel='mode'>"
      ]
     },
     "execution_count": 31,
     "metadata": {},
     "output_type": "execute_result"
    },
    {
     "data": {
      "image/png": "[encoded data removed]",
      "text/plain": [
       "<Figure size 432x288 with 1 Axes>"
      ]
     },
     "metadata": {
      "needs_background": "light"
     },
     "output_type": "display_data"
    }
   ],
   "source": [
    "df.groupby('mode')['valence'].mean().plot(kind='bar')"
   ]
  },
  {
   "cell_type": "markdown",
   "id": "39df45bd",
   "metadata": {
    "papermill": {
     "duration": 0.039119,
     "end_time": "2021-11-21T20:23:49.892716",
     "exception": false,
     "start_time": "2021-11-21T20:23:49.853597",
     "status": "completed"
    },
    "tags": []
   },
   "source": [
    "And...moving on! :)"
   ]
  },
  {
   "cell_type": "code",
   "execution_count": null,
   "id": "20b960de",
   "metadata": {
    "papermill": {
     "duration": 0.038579,
     "end_time": "2021-11-21T20:23:49.971333",
     "exception": false,
     "start_time": "2021-11-21T20:23:49.932754",
     "status": "completed"
    },
    "tags": []
   },
   "outputs": [],
   "source": []
  }
 ],
 "metadata": {
  "kernelspec": {
   "display_name": "Python 3",
   "language": "python",
   "name": "python3"
  },
  "language_info": {
   "codemirror_mode": {
    "name": "ipython",
    "version": 3
   },
   "file_extension": ".py",
   "mimetype": "text/x-python",
   "name": "python",
   "nbconvert_exporter": "python",
   "pygments_lexer": "ipython3",
   "version": "3.7.10"
  },
  "papermill": {
   "default_parameters": {},
   "duration": 19.271001,
   "end_time": "2021-11-21T20:23:50.821596",
   "environment_variables": {},
   "exception": null,
   "input_path": "__notebook__.ipynb",
   "output_path": "__notebook__.ipynb",
   "parameters": {},
   "start_time": "2021-11-21T20:23:31.550595",
   "version": "2.3.3"
  }
 },
 "nbformat": 4,
 "nbformat_minor": 5
}
